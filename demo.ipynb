{
 "cells": [
  {
   "cell_type": "code",
   "execution_count": null,
   "metadata": {
    "collapsed": true
   },
   "outputs": [],
   "source": [
    "from json import dumps\n",
    "from pathlib import Path\n",
    "from typing import Union\n",
    "\n",
    "import numpy as np\n",
    "import matplotlib.pyplot as plt\n",
    "ITERATIONS = iter([1, 3, 7, 50, 100, 300, 600])"
   ]
  },
  {
   "cell_type": "code",
   "execution_count": null,
   "outputs": [],
   "source": [
    "class MyModel:\n",
    "    # This value can be changed to make calculations faster, but should not exceed 1.7\n",
    "    LEARNING_RATE = 0.9\n",
    "\n",
    "    # This value can be changed to make calculations more precise\n",
    "    ERROR = 0.00001\n",
    "\n",
    "    def __init__(self, data):\n",
    "        self.km = data[1:, 0]\n",
    "        self.price = data[1:, 1]\n",
    "        self.km_norm = self.normalize_data(self.km)\n",
    "        self.t0 = 0.0\n",
    "        self.t0_denorm = 0.0\n",
    "        self.t1 = 0.0\n",
    "        self.t1_denorm = 0.0\n",
    "        self.sq_err = 0.0\n",
    "\n",
    "    @staticmethod\n",
    "    def normalize_data(array: np.array):\n",
    "        \"\"\"\n",
    "        Normalizes data by converting the minimum value to 0 and maximum value\n",
    "        to 1 shifting the values in between correspondingly.\n",
    "        \"\"\"\n",
    "        return (array - min(array)) / (max(array) - min(array))\n",
    "\n",
    "    def save_thetas(self):\n",
    "        \"\"\"\n",
    "        Saves thetas to the file in json format\n",
    "        \"\"\"\n",
    "        data = {'theta0': self.t0, 'theta1': self.t1}\n",
    "        p = Path(__file__).parent.absolute() / 'thetas.json'\n",
    "        with open(p, 'w') as f:\n",
    "            f.write(dumps(data))\n",
    "        print('SUCCESS')\n",
    "\n",
    "    def denormalize_thetas(self):\n",
    "        \"\"\"\n",
    "        Converts thetas calculated for the normalized dataset to the initial\n",
    "        one depending on the positive or negative value of theta1\n",
    "        \"\"\"\n",
    "        y_limits = [self.estimated_price(0), self.estimated_price(1)]\n",
    "        if self.t1 < 0:\n",
    "            self.t0_denorm = (max(y_limits) * max(self.km) -\n",
    "                       min(y_limits) * min(self.km)) / \\\n",
    "                      (max(self.km) - min(self.km))\n",
    "            self.t1_denorm = (min(y_limits) - self.t0_denorm) / max(self.km)\n",
    "        else:\n",
    "            self.t0_denorm = (max(y_limits) * min(self.km) -\n",
    "                       min(y_limits) * max(self.km)) / \\\n",
    "                      (min(self.km) - max(self.km))\n",
    "            self.t1_denorm = (min(y_limits) - self.t0_denorm) / min(self.km)\n",
    "\n",
    "    def estimated_price(self, x: Union[int, float], denorm=False):\n",
    "        \"\"\"\n",
    "        Calculates the price for the given value on the x-axis depending on\n",
    "        the current value of thetas\n",
    "        \"\"\"\n",
    "        if denorm:\n",
    "            return self.t1_denorm * x + self.t0_denorm\n",
    "        return self.t1 * x + self.t0\n",
    "\n",
    "    def calculate_square_error(self) -> float:\n",
    "        \"\"\"\n",
    "        Calculates square error depending on the current value of thetas\n",
    "        \"\"\"\n",
    "        summ = sum([(self.estimated_price(km_i) - price_i) ** 2\n",
    "                    for km_i, price_i in zip(self.km_norm, self.price)])\n",
    "        return summ / (2 * len(self.km_norm))\n",
    "\n",
    "    def _calculate_t0(self):\n",
    "        \"\"\"\n",
    "        Calculates t0 depending on the current values of t0 and learning rate\n",
    "        \"\"\"\n",
    "        size = len(self.km_norm)\n",
    "        summ = sum([self.estimated_price(km_i) - price_i\n",
    "                    for km_i, price_i in zip(self.km_norm, self.price)])\n",
    "        return (self.LEARNING_RATE / size) * summ\n",
    "\n",
    "    def _calculate_t1(self):\n",
    "        \"\"\"\n",
    "        Calculates t1 depending on the current values of t0 and learning rate\n",
    "        \"\"\"\n",
    "        size = len(self.km_norm)\n",
    "        summ = sum([(self.estimated_price(km_i) - price_i) * km_i\n",
    "                    for km_i, price_i in zip(self.km_norm, self.price)])\n",
    "        return (self.LEARNING_RATE / size) * summ\n",
    "\n",
    "    def train_model(self, start, stop) -> None:\n",
    "        \"\"\"\n",
    "        Calculates thetas over and over again till the difference between the\n",
    "        two consecutive calculations' square error does not exceed the\n",
    "        predefined value\n",
    "        \"\"\"\n",
    "        i = start\n",
    "        while True:\n",
    "            i += 1\n",
    "            tmp_t0 = self.t0 - self._calculate_t0()\n",
    "            tmp_t1 = self.t1 - self._calculate_t1()\n",
    "            self.t0 = tmp_t0\n",
    "            self.t1 = tmp_t1\n",
    "            tmp_sq_er = self.calculate_square_error()\n",
    "            if abs(tmp_sq_er - self.sq_err) < self.ERROR:\n",
    "                break\n",
    "            self.sq_err = tmp_sq_er\n",
    "            if i == stop:\n",
    "                break"
   ],
   "metadata": {
    "collapsed": false
   }
  },
  {
   "cell_type": "code",
   "execution_count": null,
   "outputs": [],
   "source": [
    "def show_graph(md, iter):\n",
    "    def plot_data():\n",
    "        plt.scatter(md.km, md.price)\n",
    "        plt.xlabel(\"km\")\n",
    "        plt.ylabel(\"price\")\n",
    "    plot_data()\n",
    "    md.denormalize_thetas()\n",
    "    plt.plot([min(md.km), max(md.km) ], [md.estimated_price(min(md.km), denorm=True), md.estimated_price(max(md.km), denorm=True)], color='r')\n",
    "    print(f'{iter} iteration')\n",
    "    plt.show()"
   ],
   "metadata": {
    "collapsed": false
   }
  },
  {
   "cell_type": "code",
   "execution_count": null,
   "outputs": [],
   "source": [
    "p = Path('data.csv')\n",
    "if not p.exists():\n",
    "    print(f'File {p} does not exist.')\n",
    "    exit(1)\n",
    "model = MyModel(np.genfromtxt(p, delimiter=','))"
   ],
   "metadata": {
    "collapsed": false
   }
  },
  {
   "cell_type": "code",
   "execution_count": null,
   "outputs": [],
   "source": [
    "end = 0\n",
    "start, end = end, next(ITERATIONS)\n",
    "model.train_model(start, end)\n",
    "show_graph(model, end)"
   ],
   "metadata": {
    "collapsed": false
   }
  },
  {
   "cell_type": "code",
   "execution_count": null,
   "outputs": [],
   "source": [
    "start, end = end, next(ITERATIONS)\n",
    "model.train_model(start, end)\n",
    "show_graph(model, end)"
   ],
   "metadata": {
    "collapsed": false
   }
  },
  {
   "cell_type": "code",
   "execution_count": null,
   "outputs": [],
   "source": [
    "start, end = end, next(ITERATIONS)\n",
    "model.train_model(start, end)\n",
    "show_graph(model, end)"
   ],
   "metadata": {
    "collapsed": false
   }
  },
  {
   "cell_type": "code",
   "execution_count": null,
   "outputs": [],
   "source": [
    "start, end = end, next(ITERATIONS)\n",
    "model.train_model(start, end)\n",
    "show_graph(model, end)"
   ],
   "metadata": {
    "collapsed": false
   }
  },
  {
   "cell_type": "code",
   "execution_count": null,
   "outputs": [],
   "source": [
    "start, end = end, next(ITERATIONS)\n",
    "model.train_model(start, end)\n",
    "show_graph(model, end)"
   ],
   "metadata": {
    "collapsed": false
   }
  },
  {
   "cell_type": "code",
   "execution_count": null,
   "outputs": [],
   "source": [
    "start, end = end, next(ITERATIONS)\n",
    "model.train_model(start, end)\n",
    "show_graph(model, end)"
   ],
   "metadata": {
    "collapsed": false
   }
  },
  {
   "cell_type": "code",
   "execution_count": null,
   "outputs": [],
   "source": [
    "start, end = end, next(ITERATIONS)\n",
    "model.train_model(start, end)\n",
    "show_graph(model, end)"
   ],
   "metadata": {
    "collapsed": false
   }
  }
 ],
 "metadata": {
  "kernelspec": {
   "display_name": "Python 3",
   "language": "python",
   "name": "python3"
  },
  "language_info": {
   "codemirror_mode": {
    "name": "ipython",
    "version": 2
   },
   "file_extension": ".py",
   "mimetype": "text/x-python",
   "name": "python",
   "nbconvert_exporter": "python",
   "pygments_lexer": "ipython2",
   "version": "2.7.6"
  }
 },
 "nbformat": 4,
 "nbformat_minor": 0
}
